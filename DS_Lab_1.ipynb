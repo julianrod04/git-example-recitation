{
  "nbformat": 4,
  "nbformat_minor": 0,
  "metadata": {
    "colab": {
      "provenance": [],
      "collapsed_sections": [
        "UNgdedfHjO9i",
        "35wSafqbjU_U",
        "1LJv634kpOWR",
        "naZRl9cbmYbT"
      ],
      "include_colab_link": true
    },
    "kernelspec": {
      "name": "python3",
      "display_name": "Python 3"
    },
    "language_info": {
      "name": "python"
    }
  },
  "cells": [
    {
      "cell_type": "markdown",
      "metadata": {
        "id": "view-in-github",
        "colab_type": "text"
      },
      "source": [
        "<a href=\"https://colab.research.google.com/github/julianrod04/git-example-recitation/blob/main/DS_Lab_1.ipynb\" target=\"_parent\"><img src=\"https://colab.research.google.com/assets/colab-badge.svg\" alt=\"Open In Colab\"/></a>"
      ]
    },
    {
      "cell_type": "markdown",
      "source": [
        "# Data Science Lab: Lab 1\n",
        "\n",
        "Submit:\n",
        "\n",
        "A read-only link to your colab notebook, executed and saved (so that we can run it, but don't necessarily have to, to see your results).\n",
        "\n",
        "For any questions that require written explanation, please use Markdown - it is a lot easier for us to read than comments in the code.\n",
        "\n",
        "**If you used any AI help, please describe how you used it and what you used.**\n",
        "\n",
        "**Goals of this Lab:**\n",
        "1.  Practice with Pandas, Numpy and Data Exploration.\n",
        "2.  Training vs testing error\n",
        "3.  Review important results from probability, such as the CLT.\n"
      ],
      "metadata": {
        "id": "cODeBzg1alZC"
      }
    },
    {
      "cell_type": "code",
      "source": [
        "# Some useful libraries\n",
        "import numpy as np\n",
        "from numpy.random import default_rng\n",
        "\n",
        "#Pandas for data structure and analysis tools\n",
        "import pandas as pd\n",
        "\n",
        "#seaborn and matplotlib for plotting\n",
        "import seaborn as sns\n",
        "import matplotlib.pyplot as plt\n",
        "\n",
        "#for nice vector graphics\n",
        "%matplotlib inline\n",
        "\n",
        "#from IPython.display import set_matplotlib_formats\n",
        "#set_matplotlib_formats('png', 'pdf')\n",
        "\n",
        "np.random.seed(42) # Fixed seed for reproducibility\n",
        "rng = default_rng(42)"
      ],
      "metadata": {
        "id": "4Xvcqq7SapU5"
      },
      "execution_count": null,
      "outputs": []
    },
    {
      "cell_type": "markdown",
      "source": [
        "# Problem 1\n",
        "\n",
        "Download from Canvas/Files the dataset ``PatientData.csv``. Each row is a patient and the last column is the condition that the patient has.  Do data exploration using Pandas and other visualization tools to understand what you can about the data set. For example:\n",
        "\n",
        "Part 1.  How many patients and how many features are there?\n",
        "\n",
        "Part 2.  What is the meaning of the first 4 features?  See if you can understand what they mean.\n",
        "\n",
        "Part 3.  Are there missing values?  Replace them with the average of the corresponding feature column\n",
        "\n",
        "Part 4.  How could you test which features strongly influence the patient condition and which do not? List what you think are the three most important features."
      ],
      "metadata": {
        "id": "OG1S6pFANq4b"
      }
    },
    {
      "cell_type": "code",
      "source": [
        "# Mount Google drive\n",
        "from google.colab import drive\n",
        "drive.mount('/content/drive')"
      ],
      "metadata": {
        "colab": {
          "base_uri": "https://localhost:8080/"
        },
        "id": "Rfx0_mDZY9Hi",
        "outputId": "c34e58aa-2ee6-4571-b19b-0e4d468bdc15"
      },
      "execution_count": null,
      "outputs": [
        {
          "output_type": "stream",
          "name": "stdout",
          "text": [
            "Mounted at /content/drive\n"
          ]
        }
      ]
    },
    {
      "cell_type": "code",
      "source": [
        "# Julian\n",
        "drive_file = '/content/drive/MyDrive/ECE 460J/Labs/Lab1'"
      ],
      "metadata": {
        "id": "lg4fSFTrscf0"
      },
      "execution_count": null,
      "outputs": []
    },
    {
      "cell_type": "code",
      "source": [
        "# Andriy\n",
        "drive_file = '/content/drive/MyDrive/ECE460J/Labs/Lab1/Names/Names'"
      ],
      "metadata": {
        "id": "aRA3m64MtLGz"
      },
      "execution_count": null,
      "outputs": []
    },
    {
      "cell_type": "code",
      "source": [
        "# Nathan\n",
        "drive_file = '/content/drive/MyDrive/2024-2025/Labs/Lab1'"
      ],
      "metadata": {
        "id": "vZdQXPZVtOWL"
      },
      "execution_count": null,
      "outputs": []
    },
    {
      "cell_type": "code",
      "source": [
        "# read data\n",
        "file_path = drive_file + '/PatientData.csv'\n",
        "\n",
        "data = pd.read_csv(file_path, header= None)"
      ],
      "metadata": {
        "id": "LfdkQB6RtaFH"
      },
      "execution_count": null,
      "outputs": []
    },
    {
      "cell_type": "markdown",
      "source": [
        "### Part 1:\n",
        "There are 452 patients and 279 features"
      ],
      "metadata": {
        "id": "1-E4g41hiqhc"
      }
    },
    {
      "cell_type": "code",
      "source": [
        "# Part 1\n",
        "data.shape"
      ],
      "metadata": {
        "colab": {
          "base_uri": "https://localhost:8080/"
        },
        "id": "t5PirlcAipfB",
        "outputId": "e8a9ba3f-966e-4b72-da7a-27086b678402"
      },
      "execution_count": null,
      "outputs": [
        {
          "output_type": "execute_result",
          "data": {
            "text/plain": [
              "(452, 280)"
            ]
          },
          "metadata": {},
          "execution_count": 19
        }
      ]
    },
    {
      "cell_type": "markdown",
      "source": [
        "### Part 2:\n",
        "Age: Ranges\n",
        "\n",
        "Gender: Mommy Daaddy Julian Nathan\n",
        "\n",
        "Height in cm\n",
        "\n",
        "Blood Pressure\n"
      ],
      "metadata": {
        "id": "UNgdedfHjO9i"
      }
    },
    {
      "cell_type": "code",
      "source": [
        "# Part 2\n",
        "data.head(10)"
      ],
      "metadata": {
        "id": "iGVIl3hbjTuJ",
        "colab": {
          "base_uri": "https://localhost:8080/",
          "height": 392
        },
        "outputId": "562cb17f-df44-4b4f-95c2-016fa8cd2ee3"
      },
      "execution_count": null,
      "outputs": [
        {
          "output_type": "execute_result",
          "data": {
            "text/plain": [
              "   0    1    2    3    4    5    6    7    8    9    ...  270   271  272  273  \\\n",
              "0   75    0  190   80   91  193  371  174  121  -16  ...  0.0   9.0 -0.9  0.0   \n",
              "1   56    1  165   64   81  174  401  149   39   25  ...  0.0   8.5  0.0  0.0   \n",
              "2   54    0  172   95  138  163  386  185  102   96  ...  0.0   9.5 -2.4  0.0   \n",
              "3   55    0  175   94  100  202  380  179  143   28  ...  0.0  12.2 -2.2  0.0   \n",
              "4   75    0  190   80   88  181  360  177  103  -16  ...  0.0  13.1 -3.6  0.0   \n",
              "5   13    0  169   51  100  167  321  174   91  107  ... -0.6  12.2 -2.8  0.0   \n",
              "6   40    1  160   52   77  129  377  133   77   77  ...  0.0   6.5  0.0  0.0   \n",
              "7   49    1  162   54   78    0  376  157   70   67  ...  0.0   8.2 -1.9  0.0   \n",
              "8   44    0  168   56   84  118  354  160   63   61  ...  0.0   7.0 -1.3  0.0   \n",
              "9   50    1  167   67   89  130  383  156   73   85  ... -0.6  10.8 -1.7  0.0   \n",
              "\n",
              "   274  275  276   277   278  279  \n",
              "0  0.0  0.9  2.9  23.3  49.4    8  \n",
              "1  0.0  0.2  2.1  20.4  38.8    6  \n",
              "2  0.0  0.3  3.4  12.3  49.0   10  \n",
              "3  0.0  0.4  2.6  34.6  61.6    1  \n",
              "4  0.0 -0.1  3.9  25.4  62.8    7  \n",
              "5  0.0  0.9  2.2  13.5  31.1   14  \n",
              "6  0.0  0.4  1.0  14.3  20.5    1  \n",
              "7  0.0  0.1  0.5  15.8  19.8    1  \n",
              "8  0.0  0.6  2.1  12.5  30.9    1  \n",
              "9  0.0  0.8  0.9  20.1  25.1   10  \n",
              "\n",
              "[10 rows x 280 columns]"
            ],
            "text/html": [
              "\n",
              "  <div id=\"df-6cfb1d97-c2fb-42fb-926c-616313ed62f5\" class=\"colab-df-container\">\n",
              "    <div>\n",
              "<style scoped>\n",
              "    .dataframe tbody tr th:only-of-type {\n",
              "        vertical-align: middle;\n",
              "    }\n",
              "\n",
              "    .dataframe tbody tr th {\n",
              "        vertical-align: top;\n",
              "    }\n",
              "\n",
              "    .dataframe thead th {\n",
              "        text-align: right;\n",
              "    }\n",
              "</style>\n",
              "<table border=\"1\" class=\"dataframe\">\n",
              "  <thead>\n",
              "    <tr style=\"text-align: right;\">\n",
              "      <th></th>\n",
              "      <th>0</th>\n",
              "      <th>1</th>\n",
              "      <th>2</th>\n",
              "      <th>3</th>\n",
              "      <th>4</th>\n",
              "      <th>5</th>\n",
              "      <th>6</th>\n",
              "      <th>7</th>\n",
              "      <th>8</th>\n",
              "      <th>9</th>\n",
              "      <th>...</th>\n",
              "      <th>270</th>\n",
              "      <th>271</th>\n",
              "      <th>272</th>\n",
              "      <th>273</th>\n",
              "      <th>274</th>\n",
              "      <th>275</th>\n",
              "      <th>276</th>\n",
              "      <th>277</th>\n",
              "      <th>278</th>\n",
              "      <th>279</th>\n",
              "    </tr>\n",
              "  </thead>\n",
              "  <tbody>\n",
              "    <tr>\n",
              "      <th>0</th>\n",
              "      <td>75</td>\n",
              "      <td>0</td>\n",
              "      <td>190</td>\n",
              "      <td>80</td>\n",
              "      <td>91</td>\n",
              "      <td>193</td>\n",
              "      <td>371</td>\n",
              "      <td>174</td>\n",
              "      <td>121</td>\n",
              "      <td>-16</td>\n",
              "      <td>...</td>\n",
              "      <td>0.0</td>\n",
              "      <td>9.0</td>\n",
              "      <td>-0.9</td>\n",
              "      <td>0.0</td>\n",
              "      <td>0.0</td>\n",
              "      <td>0.9</td>\n",
              "      <td>2.9</td>\n",
              "      <td>23.3</td>\n",
              "      <td>49.4</td>\n",
              "      <td>8</td>\n",
              "    </tr>\n",
              "    <tr>\n",
              "      <th>1</th>\n",
              "      <td>56</td>\n",
              "      <td>1</td>\n",
              "      <td>165</td>\n",
              "      <td>64</td>\n",
              "      <td>81</td>\n",
              "      <td>174</td>\n",
              "      <td>401</td>\n",
              "      <td>149</td>\n",
              "      <td>39</td>\n",
              "      <td>25</td>\n",
              "      <td>...</td>\n",
              "      <td>0.0</td>\n",
              "      <td>8.5</td>\n",
              "      <td>0.0</td>\n",
              "      <td>0.0</td>\n",
              "      <td>0.0</td>\n",
              "      <td>0.2</td>\n",
              "      <td>2.1</td>\n",
              "      <td>20.4</td>\n",
              "      <td>38.8</td>\n",
              "      <td>6</td>\n",
              "    </tr>\n",
              "    <tr>\n",
              "      <th>2</th>\n",
              "      <td>54</td>\n",
              "      <td>0</td>\n",
              "      <td>172</td>\n",
              "      <td>95</td>\n",
              "      <td>138</td>\n",
              "      <td>163</td>\n",
              "      <td>386</td>\n",
              "      <td>185</td>\n",
              "      <td>102</td>\n",
              "      <td>96</td>\n",
              "      <td>...</td>\n",
              "      <td>0.0</td>\n",
              "      <td>9.5</td>\n",
              "      <td>-2.4</td>\n",
              "      <td>0.0</td>\n",
              "      <td>0.0</td>\n",
              "      <td>0.3</td>\n",
              "      <td>3.4</td>\n",
              "      <td>12.3</td>\n",
              "      <td>49.0</td>\n",
              "      <td>10</td>\n",
              "    </tr>\n",
              "    <tr>\n",
              "      <th>3</th>\n",
              "      <td>55</td>\n",
              "      <td>0</td>\n",
              "      <td>175</td>\n",
              "      <td>94</td>\n",
              "      <td>100</td>\n",
              "      <td>202</td>\n",
              "      <td>380</td>\n",
              "      <td>179</td>\n",
              "      <td>143</td>\n",
              "      <td>28</td>\n",
              "      <td>...</td>\n",
              "      <td>0.0</td>\n",
              "      <td>12.2</td>\n",
              "      <td>-2.2</td>\n",
              "      <td>0.0</td>\n",
              "      <td>0.0</td>\n",
              "      <td>0.4</td>\n",
              "      <td>2.6</td>\n",
              "      <td>34.6</td>\n",
              "      <td>61.6</td>\n",
              "      <td>1</td>\n",
              "    </tr>\n",
              "    <tr>\n",
              "      <th>4</th>\n",
              "      <td>75</td>\n",
              "      <td>0</td>\n",
              "      <td>190</td>\n",
              "      <td>80</td>\n",
              "      <td>88</td>\n",
              "      <td>181</td>\n",
              "      <td>360</td>\n",
              "      <td>177</td>\n",
              "      <td>103</td>\n",
              "      <td>-16</td>\n",
              "      <td>...</td>\n",
              "      <td>0.0</td>\n",
              "      <td>13.1</td>\n",
              "      <td>-3.6</td>\n",
              "      <td>0.0</td>\n",
              "      <td>0.0</td>\n",
              "      <td>-0.1</td>\n",
              "      <td>3.9</td>\n",
              "      <td>25.4</td>\n",
              "      <td>62.8</td>\n",
              "      <td>7</td>\n",
              "    </tr>\n",
              "    <tr>\n",
              "      <th>5</th>\n",
              "      <td>13</td>\n",
              "      <td>0</td>\n",
              "      <td>169</td>\n",
              "      <td>51</td>\n",
              "      <td>100</td>\n",
              "      <td>167</td>\n",
              "      <td>321</td>\n",
              "      <td>174</td>\n",
              "      <td>91</td>\n",
              "      <td>107</td>\n",
              "      <td>...</td>\n",
              "      <td>-0.6</td>\n",
              "      <td>12.2</td>\n",
              "      <td>-2.8</td>\n",
              "      <td>0.0</td>\n",
              "      <td>0.0</td>\n",
              "      <td>0.9</td>\n",
              "      <td>2.2</td>\n",
              "      <td>13.5</td>\n",
              "      <td>31.1</td>\n",
              "      <td>14</td>\n",
              "    </tr>\n",
              "    <tr>\n",
              "      <th>6</th>\n",
              "      <td>40</td>\n",
              "      <td>1</td>\n",
              "      <td>160</td>\n",
              "      <td>52</td>\n",
              "      <td>77</td>\n",
              "      <td>129</td>\n",
              "      <td>377</td>\n",
              "      <td>133</td>\n",
              "      <td>77</td>\n",
              "      <td>77</td>\n",
              "      <td>...</td>\n",
              "      <td>0.0</td>\n",
              "      <td>6.5</td>\n",
              "      <td>0.0</td>\n",
              "      <td>0.0</td>\n",
              "      <td>0.0</td>\n",
              "      <td>0.4</td>\n",
              "      <td>1.0</td>\n",
              "      <td>14.3</td>\n",
              "      <td>20.5</td>\n",
              "      <td>1</td>\n",
              "    </tr>\n",
              "    <tr>\n",
              "      <th>7</th>\n",
              "      <td>49</td>\n",
              "      <td>1</td>\n",
              "      <td>162</td>\n",
              "      <td>54</td>\n",
              "      <td>78</td>\n",
              "      <td>0</td>\n",
              "      <td>376</td>\n",
              "      <td>157</td>\n",
              "      <td>70</td>\n",
              "      <td>67</td>\n",
              "      <td>...</td>\n",
              "      <td>0.0</td>\n",
              "      <td>8.2</td>\n",
              "      <td>-1.9</td>\n",
              "      <td>0.0</td>\n",
              "      <td>0.0</td>\n",
              "      <td>0.1</td>\n",
              "      <td>0.5</td>\n",
              "      <td>15.8</td>\n",
              "      <td>19.8</td>\n",
              "      <td>1</td>\n",
              "    </tr>\n",
              "    <tr>\n",
              "      <th>8</th>\n",
              "      <td>44</td>\n",
              "      <td>0</td>\n",
              "      <td>168</td>\n",
              "      <td>56</td>\n",
              "      <td>84</td>\n",
              "      <td>118</td>\n",
              "      <td>354</td>\n",
              "      <td>160</td>\n",
              "      <td>63</td>\n",
              "      <td>61</td>\n",
              "      <td>...</td>\n",
              "      <td>0.0</td>\n",
              "      <td>7.0</td>\n",
              "      <td>-1.3</td>\n",
              "      <td>0.0</td>\n",
              "      <td>0.0</td>\n",
              "      <td>0.6</td>\n",
              "      <td>2.1</td>\n",
              "      <td>12.5</td>\n",
              "      <td>30.9</td>\n",
              "      <td>1</td>\n",
              "    </tr>\n",
              "    <tr>\n",
              "      <th>9</th>\n",
              "      <td>50</td>\n",
              "      <td>1</td>\n",
              "      <td>167</td>\n",
              "      <td>67</td>\n",
              "      <td>89</td>\n",
              "      <td>130</td>\n",
              "      <td>383</td>\n",
              "      <td>156</td>\n",
              "      <td>73</td>\n",
              "      <td>85</td>\n",
              "      <td>...</td>\n",
              "      <td>-0.6</td>\n",
              "      <td>10.8</td>\n",
              "      <td>-1.7</td>\n",
              "      <td>0.0</td>\n",
              "      <td>0.0</td>\n",
              "      <td>0.8</td>\n",
              "      <td>0.9</td>\n",
              "      <td>20.1</td>\n",
              "      <td>25.1</td>\n",
              "      <td>10</td>\n",
              "    </tr>\n",
              "  </tbody>\n",
              "</table>\n",
              "<p>10 rows × 280 columns</p>\n",
              "</div>\n",
              "    <div class=\"colab-df-buttons\">\n",
              "\n",
              "  <div class=\"colab-df-container\">\n",
              "    <button class=\"colab-df-convert\" onclick=\"convertToInteractive('df-6cfb1d97-c2fb-42fb-926c-616313ed62f5')\"\n",
              "            title=\"Convert this dataframe to an interactive table.\"\n",
              "            style=\"display:none;\">\n",
              "\n",
              "  <svg xmlns=\"http://www.w3.org/2000/svg\" height=\"24px\" viewBox=\"0 -960 960 960\">\n",
              "    <path d=\"M120-120v-720h720v720H120Zm60-500h600v-160H180v160Zm220 220h160v-160H400v160Zm0 220h160v-160H400v160ZM180-400h160v-160H180v160Zm440 0h160v-160H620v160ZM180-180h160v-160H180v160Zm440 0h160v-160H620v160Z\"/>\n",
              "  </svg>\n",
              "    </button>\n",
              "\n",
              "  <style>\n",
              "    .colab-df-container {\n",
              "      display:flex;\n",
              "      gap: 12px;\n",
              "    }\n",
              "\n",
              "    .colab-df-convert {\n",
              "      background-color: #E8F0FE;\n",
              "      border: none;\n",
              "      border-radius: 50%;\n",
              "      cursor: pointer;\n",
              "      display: none;\n",
              "      fill: #1967D2;\n",
              "      height: 32px;\n",
              "      padding: 0 0 0 0;\n",
              "      width: 32px;\n",
              "    }\n",
              "\n",
              "    .colab-df-convert:hover {\n",
              "      background-color: #E2EBFA;\n",
              "      box-shadow: 0px 1px 2px rgba(60, 64, 67, 0.3), 0px 1px 3px 1px rgba(60, 64, 67, 0.15);\n",
              "      fill: #174EA6;\n",
              "    }\n",
              "\n",
              "    .colab-df-buttons div {\n",
              "      margin-bottom: 4px;\n",
              "    }\n",
              "\n",
              "    [theme=dark] .colab-df-convert {\n",
              "      background-color: #3B4455;\n",
              "      fill: #D2E3FC;\n",
              "    }\n",
              "\n",
              "    [theme=dark] .colab-df-convert:hover {\n",
              "      background-color: #434B5C;\n",
              "      box-shadow: 0px 1px 3px 1px rgba(0, 0, 0, 0.15);\n",
              "      filter: drop-shadow(0px 1px 2px rgba(0, 0, 0, 0.3));\n",
              "      fill: #FFFFFF;\n",
              "    }\n",
              "  </style>\n",
              "\n",
              "    <script>\n",
              "      const buttonEl =\n",
              "        document.querySelector('#df-6cfb1d97-c2fb-42fb-926c-616313ed62f5 button.colab-df-convert');\n",
              "      buttonEl.style.display =\n",
              "        google.colab.kernel.accessAllowed ? 'block' : 'none';\n",
              "\n",
              "      async function convertToInteractive(key) {\n",
              "        const element = document.querySelector('#df-6cfb1d97-c2fb-42fb-926c-616313ed62f5');\n",
              "        const dataTable =\n",
              "          await google.colab.kernel.invokeFunction('convertToInteractive',\n",
              "                                                    [key], {});\n",
              "        if (!dataTable) return;\n",
              "\n",
              "        const docLinkHtml = 'Like what you see? Visit the ' +\n",
              "          '<a target=\"_blank\" href=https://colab.research.google.com/notebooks/data_table.ipynb>data table notebook</a>'\n",
              "          + ' to learn more about interactive tables.';\n",
              "        element.innerHTML = '';\n",
              "        dataTable['output_type'] = 'display_data';\n",
              "        await google.colab.output.renderOutput(dataTable, element);\n",
              "        const docLink = document.createElement('div');\n",
              "        docLink.innerHTML = docLinkHtml;\n",
              "        element.appendChild(docLink);\n",
              "      }\n",
              "    </script>\n",
              "  </div>\n",
              "\n",
              "\n",
              "<div id=\"df-d9d5fdb8-c212-4a4f-ba00-50b9b580904a\">\n",
              "  <button class=\"colab-df-quickchart\" onclick=\"quickchart('df-d9d5fdb8-c212-4a4f-ba00-50b9b580904a')\"\n",
              "            title=\"Suggest charts\"\n",
              "            style=\"display:none;\">\n",
              "\n",
              "<svg xmlns=\"http://www.w3.org/2000/svg\" height=\"24px\"viewBox=\"0 0 24 24\"\n",
              "     width=\"24px\">\n",
              "    <g>\n",
              "        <path d=\"M19 3H5c-1.1 0-2 .9-2 2v14c0 1.1.9 2 2 2h14c1.1 0 2-.9 2-2V5c0-1.1-.9-2-2-2zM9 17H7v-7h2v7zm4 0h-2V7h2v10zm4 0h-2v-4h2v4z\"/>\n",
              "    </g>\n",
              "</svg>\n",
              "  </button>\n",
              "\n",
              "<style>\n",
              "  .colab-df-quickchart {\n",
              "      --bg-color: #E8F0FE;\n",
              "      --fill-color: #1967D2;\n",
              "      --hover-bg-color: #E2EBFA;\n",
              "      --hover-fill-color: #174EA6;\n",
              "      --disabled-fill-color: #AAA;\n",
              "      --disabled-bg-color: #DDD;\n",
              "  }\n",
              "\n",
              "  [theme=dark] .colab-df-quickchart {\n",
              "      --bg-color: #3B4455;\n",
              "      --fill-color: #D2E3FC;\n",
              "      --hover-bg-color: #434B5C;\n",
              "      --hover-fill-color: #FFFFFF;\n",
              "      --disabled-bg-color: #3B4455;\n",
              "      --disabled-fill-color: #666;\n",
              "  }\n",
              "\n",
              "  .colab-df-quickchart {\n",
              "    background-color: var(--bg-color);\n",
              "    border: none;\n",
              "    border-radius: 50%;\n",
              "    cursor: pointer;\n",
              "    display: none;\n",
              "    fill: var(--fill-color);\n",
              "    height: 32px;\n",
              "    padding: 0;\n",
              "    width: 32px;\n",
              "  }\n",
              "\n",
              "  .colab-df-quickchart:hover {\n",
              "    background-color: var(--hover-bg-color);\n",
              "    box-shadow: 0 1px 2px rgba(60, 64, 67, 0.3), 0 1px 3px 1px rgba(60, 64, 67, 0.15);\n",
              "    fill: var(--button-hover-fill-color);\n",
              "  }\n",
              "\n",
              "  .colab-df-quickchart-complete:disabled,\n",
              "  .colab-df-quickchart-complete:disabled:hover {\n",
              "    background-color: var(--disabled-bg-color);\n",
              "    fill: var(--disabled-fill-color);\n",
              "    box-shadow: none;\n",
              "  }\n",
              "\n",
              "  .colab-df-spinner {\n",
              "    border: 2px solid var(--fill-color);\n",
              "    border-color: transparent;\n",
              "    border-bottom-color: var(--fill-color);\n",
              "    animation:\n",
              "      spin 1s steps(1) infinite;\n",
              "  }\n",
              "\n",
              "  @keyframes spin {\n",
              "    0% {\n",
              "      border-color: transparent;\n",
              "      border-bottom-color: var(--fill-color);\n",
              "      border-left-color: var(--fill-color);\n",
              "    }\n",
              "    20% {\n",
              "      border-color: transparent;\n",
              "      border-left-color: var(--fill-color);\n",
              "      border-top-color: var(--fill-color);\n",
              "    }\n",
              "    30% {\n",
              "      border-color: transparent;\n",
              "      border-left-color: var(--fill-color);\n",
              "      border-top-color: var(--fill-color);\n",
              "      border-right-color: var(--fill-color);\n",
              "    }\n",
              "    40% {\n",
              "      border-color: transparent;\n",
              "      border-right-color: var(--fill-color);\n",
              "      border-top-color: var(--fill-color);\n",
              "    }\n",
              "    60% {\n",
              "      border-color: transparent;\n",
              "      border-right-color: var(--fill-color);\n",
              "    }\n",
              "    80% {\n",
              "      border-color: transparent;\n",
              "      border-right-color: var(--fill-color);\n",
              "      border-bottom-color: var(--fill-color);\n",
              "    }\n",
              "    90% {\n",
              "      border-color: transparent;\n",
              "      border-bottom-color: var(--fill-color);\n",
              "    }\n",
              "  }\n",
              "</style>\n",
              "\n",
              "  <script>\n",
              "    async function quickchart(key) {\n",
              "      const quickchartButtonEl =\n",
              "        document.querySelector('#' + key + ' button');\n",
              "      quickchartButtonEl.disabled = true;  // To prevent multiple clicks.\n",
              "      quickchartButtonEl.classList.add('colab-df-spinner');\n",
              "      try {\n",
              "        const charts = await google.colab.kernel.invokeFunction(\n",
              "            'suggestCharts', [key], {});\n",
              "      } catch (error) {\n",
              "        console.error('Error during call to suggestCharts:', error);\n",
              "      }\n",
              "      quickchartButtonEl.classList.remove('colab-df-spinner');\n",
              "      quickchartButtonEl.classList.add('colab-df-quickchart-complete');\n",
              "    }\n",
              "    (() => {\n",
              "      let quickchartButtonEl =\n",
              "        document.querySelector('#df-d9d5fdb8-c212-4a4f-ba00-50b9b580904a button');\n",
              "      quickchartButtonEl.style.display =\n",
              "        google.colab.kernel.accessAllowed ? 'block' : 'none';\n",
              "    })();\n",
              "  </script>\n",
              "</div>\n",
              "\n",
              "    </div>\n",
              "  </div>\n"
            ],
            "application/vnd.google.colaboratory.intrinsic+json": {
              "type": "dataframe",
              "variable_name": "data"
            }
          },
          "metadata": {},
          "execution_count": 22
        }
      ]
    },
    {
      "cell_type": "markdown",
      "source": [
        "### Part 3:"
      ],
      "metadata": {
        "id": "35wSafqbjU_U"
      }
    },
    {
      "cell_type": "code",
      "source": [
        "data.replace(\"?\", np.nan, inplace=True)\n",
        "data = data.apply(pd.to_numeric, errors='coerce')\n",
        "data.fillna(data.mean(), inplace=True)\n",
        "\n",
        "print(data.head())\n"
      ],
      "metadata": {
        "id": "eOfn-FDMbTP5",
        "colab": {
          "base_uri": "https://localhost:8080/"
        },
        "outputId": "d3e7a79e-e1b1-487a-9cf3-f88b53e63e04"
      },
      "execution_count": null,
      "outputs": [
        {
          "output_type": "stream",
          "name": "stdout",
          "text": [
            "   0    1    2    3    4    5    6    7    8    9    ...  270   271  272  273  \\\n",
            "0   75    0  190   80   91  193  371  174  121  -16  ...  0.0   9.0 -0.9  0.0   \n",
            "1   56    1  165   64   81  174  401  149   39   25  ...  0.0   8.5  0.0  0.0   \n",
            "2   54    0  172   95  138  163  386  185  102   96  ...  0.0   9.5 -2.4  0.0   \n",
            "3   55    0  175   94  100  202  380  179  143   28  ...  0.0  12.2 -2.2  0.0   \n",
            "4   75    0  190   80   88  181  360  177  103  -16  ...  0.0  13.1 -3.6  0.0   \n",
            "\n",
            "   274  275  276   277   278  279  \n",
            "0  0.0  0.9  2.9  23.3  49.4    8  \n",
            "1  0.0  0.2  2.1  20.4  38.8    6  \n",
            "2  0.0  0.3  3.4  12.3  49.0   10  \n",
            "3  0.0  0.4  2.6  34.6  61.6    1  \n",
            "4  0.0 -0.1  3.9  25.4  62.8    7  \n",
            "\n",
            "[5 rows x 280 columns]\n"
          ]
        }
      ]
    },
    {
      "cell_type": "markdown",
      "source": [
        "### Part 4:"
      ],
      "metadata": {
        "id": "1LJv634kpOWR"
      }
    },
    {
      "cell_type": "code",
      "source": [
        "correlation_matrix = data.corr()\n",
        "target_column = data.columns[-1]\n",
        "correlation_with_target = correlation_matrix[target_column].drop(target_column)\n",
        "sorted_correlation = correlation_with_target.abs().sort_values(ascending=False)\n",
        "\n",
        "\n",
        "print(\"The three most important features are:\")\n",
        "print(sorted_correlation.head(3))\n",
        "\n",
        "plt.figure(figsize=(10, 8))\n",
        "sns.heatmap(data[sorted_correlation.head(3).index].corr(), annot=True, cmap='coolwarm', fmt='.2f')\n",
        "plt.title('Correlation Heatmap of Top 3 Features')\n",
        "plt.show()"
      ],
      "metadata": {
        "colab": {
          "base_uri": "https://localhost:8080/",
          "height": 786
        },
        "id": "U3GT1_gqqYsU",
        "outputId": "ae9b049c-373c-4140-fce6-5baeba75d5a3"
      },
      "execution_count": null,
      "outputs": [
        {
          "output_type": "stream",
          "name": "stdout",
          "text": [
            "The three most important features are:\n",
            "90    0.368876\n",
            "4     0.323879\n",
            "92    0.313982\n",
            "Name: 279, dtype: float64\n"
          ]
        },
        {
          "output_type": "display_data",
          "data": {
            "text/plain": [
              "<Figure size 1000x800 with 2 Axes>"
            ],
            "image/png": "[encoded data removed]"
          },
          "metadata": {}
        }
      ]
    },
    {
      "cell_type": "markdown",
      "source": [
        "##Answer Part 4\n",
        "To test which features are most influential on the dataset we can generate a correlation matrix that will \"heatmap\" the strongest features to the outcome. Looking at the correlation coefficients and the mapped colors we will be able to tell visually and analytically"
      ],
      "metadata": {
        "id": "bHZfPSEVpY1d"
      }
    },
    {
      "cell_type": "markdown",
      "source": [
        "# Problem 2\n",
        "\n",
        "The goal of this exercise is for you to get more experience with Pandas, and to get a chance to explore a cool data set.  Download the file Names.zip from Canvas.  This contains the frequency of all names that appeared more than 5 times on a social security application from 1880 through 2015.\n",
        "\n",
        "Part 1. Write a program that on input $k$ and XXXX, returns the top $k$ names from year XXXX.\n",
        "\n",
        "Part 2. Write a program that on input Name returns the frequency for men and women of the name Name.\n",
        "\n",
        "Part 3. It could be that names are more diverse now than they were in 1880, so that a name may be relatively the most popular, though its frequency may have been decreasing over the years.  Modify the above to return the relative frequency.\n",
        "\n",
        "Part 4. Find all the names that used to be more popular for one gender, but then became more popular for another gender.\n",
        "\n",
        "•(Optional) Find something cool about this data set."
      ],
      "metadata": {
        "id": "A96ER2u0OpaH"
      }
    },
    {
      "cell_type": "code",
      "source": [
        "#Part 1:\n",
        "def topNames(k, XXXX):\n",
        "    file_name = drive_file + f'/Names/Names/yob{XXXX}.txt'\n",
        "    data = pd.read_csv(file_name, header=None)\n",
        "    return data.head(k)\n",
        "\n",
        "print(topNames(5, 1880))\n",
        "\n",
        "#Part 2:\n",
        "def countNames(name):\n",
        "    male_count = 0\n",
        "    female_count = 0\n",
        "    counts = []\n",
        "\n",
        "    for year in range(1880, 2016):\n",
        "        file_name = drive_file + f'/Names/Names/yob{year}.txt'\n",
        "        data = pd.read_csv(file_name, header=None, names = ['Names', 'Gender', 'Count'])\n",
        "\n",
        "        if name in data['Names'].values:\n",
        "            male_count += data[(data['Names'] == name) & (data['Gender'] == 'M')]['Count'].sum()\n",
        "            female_count += data[(data['Names'] == name) & (data['Gender'] == 'F')]['Count'].sum()\n",
        "    counts.append(['Male', male_count])\n",
        "    counts.append(['Female', female_count])\n",
        "\n",
        "    return counts\n",
        "\n",
        "print(countNames('Riley'))\n",
        "\n",
        "\n",
        "#Part 3:\n",
        "def countNamesYear(name):\n",
        "    counts = []\n",
        "    for year in range(1880, 2016):\n",
        "        file_name = drive_file + f'/Names/Names/yob{year}.txt'\n",
        "        data = pd.read_csv(file_name, header=None, names=['Name', 'Gender', 'Count'])\n",
        "        if name in data['Name'].values:\n",
        "            count = data[data['Name'] == name]['Count'].values[0]\n",
        "        else:\n",
        "            count = 0\n",
        "        counts.append([year, count])\n",
        "    return counts\n",
        "\n",
        "print(countNamesYear('Leta'))\n",
        "\n",
        "\n",
        "#Part 4:\n",
        "#def morePopGender():"
      ],
      "metadata": {
        "id": "yHrpPY47n007",
        "outputId": "2e483f59-6bb4-420f-9aeb-cf2389bb83ae",
        "colab": {
          "base_uri": "https://localhost:8080/"
        }
      },
      "execution_count": null,
      "outputs": [
        {
          "output_type": "stream",
          "name": "stdout",
          "text": [
            "           0  1     2\n",
            "0       Mary  F  7065\n",
            "1       Anna  F  2604\n",
            "2       Emma  F  2003\n",
            "3  Elizabeth  F  1939\n",
            "4     Minnie  F  1746\n",
            "[['Male', 89585], ['Female', 87347]]\n",
            "[[1880, 18], [1881, 21], [1882, 15], [1883, 25], [1884, 22], [1885, 32], [1886, 24], [1887, 32], [1888, 41], [1889, 59], [1890, 63], [1891, 45], [1892, 56], [1893, 55], [1894, 65], [1895, 73], [1896, 76], [1897, 78], [1898, 95], [1899, 60], [1900, 93], [1901, 74], [1902, 82], [1903, 83], [1904, 86], [1905, 98], [1906, 81], [1907, 87], [1908, 83], [1909, 96], [1910, 97], [1911, 98], [1912, 130], [1913, 130], [1914, 153], [1915, 224], [1916, 219], [1917, 196], [1918, 233], [1919, 183], [1920, 225], [1921, 205], [1922, 201], [1923, 204], [1924, 183], [1925, 195], [1926, 225], [1927, 229], [1928, 214], [1929, 191], [1930, 213], [1931, 162], [1932, 159], [1933, 167], [1934, 169], [1935, 149], [1936, 154], [1937, 125], [1938, 146], [1939, 142], [1940, 134], [1941, 138], [1942, 112], [1943, 133], [1944, 135], [1945, 104], [1946, 120], [1947, 153], [1948, 132], [1949, 171], [1950, 137], [1951, 142], [1952, 161], [1953, 170], [1954, 182], [1955, 143], [1956, 137], [1957, 135], [1958, 119], [1959, 112], [1960, 136], [1961, 129], [1962, 100], [1963, 90], [1964, 87], [1965, 65], [1966, 64], [1967, 65], [1968, 65], [1969, 63], [1970, 50], [1971, 50], [1972, 42], [1973, 49], [1974, 35], [1975, 35], [1976, 38], [1977, 47], [1978, 33], [1979, 47], [1980, 41], [1981, 29], [1982, 35], [1983, 25], [1984, 30], [1985, 16], [1986, 17], [1987, 24], [1988, 21], [1989, 27], [1990, 23], [1991, 24], [1992, 10], [1993, 14], [1994, 17], [1995, 11], [1996, 16], [1997, 12], [1998, 14], [1999, 15], [2000, 12], [2001, 14], [2002, 15], [2003, 7], [2004, 20], [2005, 16], [2006, 11], [2007, 12], [2008, 11], [2009, 6], [2010, 11], [2011, 13], [2012, 0], [2013, 8], [2014, 22], [2015, 9]]\n"
          ]
        }
      ]
    },
    {
      "cell_type": "markdown",
      "source": [
        "# Problem 3\n",
        "\n",
        "We looked at the MNIST data set in class (see the notebook in ``pages`` in Canvas). Recall that MNIST is a data set of handwritten digits. It is considered one of the ``easiest'' image recognition problems in computer vision, and we will see it again.\n",
        "\n",
        "This exercise is simple exercise, and an opportunity to play around with this data set.\n",
        "\n",
        "**Parts 1 to 7: Nothing to submit!** just run through the notebook we saw in class and try to make sure you understand all the commands.\n",
        "\n",
        "Part 1. Make sure you can run through the entire Colab notebook posted. Especially if you haven't used Python, try to understand what every line is doing.\n",
        "\n",
        "Part 2. How many data points are there, how many features are there, and what do the features represent?\n",
        "\n",
        "Part 3. Compute how many times each digit appears in the dataset.\n",
        "\n",
        "Part 4. Read the documentation for sklearn.model_selection.train_test_split and explain what this does.\n",
        "\n",
        "Part 5. Read the documentation for DecisionTreeClassifier, and explain what score means.\n",
        "\n",
        "Part 6. What happens to the **training score** as you increase the depth of the tree? Explain.\n",
        "\n",
        "Part 7. What happens to the difference between **training score** and **testing score** as you increase the depth of the tree? Explain.\n",
        "\n",
        "**Only submit your answer to this part**\n",
        "\n",
        "Part 8. Fix the depth of the tree. For this example, use depth=6 (nothing special about the number 6, just to illustrate the concept). Then plot the difference of training score - testing score when you train on: 100, 500, 5000, 10000, 20,0000, 60,000 training points, always computing testing score by evaluating on the 10,000 testing points. Plot this trend.  Try to explain what you are seeing.  \n"
      ],
      "metadata": {
        "id": "01vCW44LTMC7"
      }
    },
    {
      "cell_type": "markdown",
      "source": [
        "# Problem 4\n",
        "\n",
        "We now turn to a somewhat more sophisticated data set: CIFAR10.\n",
        "\n",
        "Load the data using:\n",
        "```\n",
        "from keras.datasets import cifar10\n",
        "(X_train, y_train), (X_test, y_test) = cifar10.load_data()\n",
        "labels = ['airplane', 'automobile', 'bird', 'cat', 'deer', 'dog', 'frog', 'horse', 'ship', 'truck']\n",
        "```\n",
        "\n",
        "Part 1. How many data points are there, and how many labels? How many points for each label?\n",
        "\n",
        "Part 2. Figure out how to display some of the images from CIFAR10.\n",
        "\n",
        "Part 3: Reshape X_train into a matrix X_tr so that each row is a data point.\n",
        " What are the dimensions of X_train?\n",
        "\n",
        "Part 4: Generate decision trees of depth 1 to 15, and for each, compute the training accuracy and the testing accuracy.\n",
        "\n",
        "If you did this correctly and ran the notebook, you noticed that CIFAR10 indeed looks like a ``harder'' problem. Deep trees are again doing very well on the training set, and they do a little better than guessing on the testing data, but not as well as they do on MNIST. We will revisit CIFAR10 several times, as we develop more powerful tools. And we will see that we will do much better than deep decision trees!"
      ],
      "metadata": {
        "id": "naZRl9cbmYbT"
      }
    },
    {
      "cell_type": "code",
      "source": [
        "from keras.datasets import cifar10\n",
        "(X_train, y_train), (X_test, y_test) = cifar10.load_data()\n",
        "labels = ['airplane', 'automobile', 'bird', 'cat', 'deer', 'dog', 'frog', 'horse', 'ship', 'truck']\n",
        "\n",
        "#Part 1:\n",
        "print(\"X_train shape:\", X_train.shape)\n",
        "print(\"y_train shape:\", y_train.shape)\n",
        "print(\"X_test shape:\", X_test.shape)\n",
        "print(\"y_test shape:\", y_test.shape)\n",
        "\n",
        "label_counts = np.bincount(y_train.flatten())\n",
        "for i, count in enumerate(label_counts):\n",
        "    print(f'The label \"{labels[i]}\" appears {count} times in the training set')\n",
        "\n",
        "#Part 2:\n",
        "def display_images(images, labels, num_images=10):\n",
        "    plt.figure(figsize=(15, 5))\n",
        "    for i in range(num_images):\n",
        "        plt.subplot(2, 5, i + 1)\n",
        "        plt.imshow(images[i])\n",
        "        plt.title(labels[y_train[i][0]])\n",
        "    plt.show()\n",
        "\n",
        "display_images(X_train, labels, num_images=10)"
      ],
      "metadata": {
        "colab": {
          "base_uri": "https://localhost:8080/",
          "height": 718
        },
        "id": "kZ7Sc_GB_zFg",
        "outputId": "33400f1c-cf10-456c-dbe2-2ebfe357cadb"
      },
      "execution_count": null,
      "outputs": [
        {
          "output_type": "stream",
          "name": "stdout",
          "text": [
            "X_train shape: (50000, 32, 32, 3)\n",
            "y_train shape: (50000, 1)\n",
            "X_test shape: (10000, 32, 32, 3)\n",
            "y_test shape: (10000, 1)\n",
            "The label \"airplane\" appears 5000 times in the training set\n",
            "The label \"automobile\" appears 5000 times in the training set\n",
            "The label \"bird\" appears 5000 times in the training set\n",
            "The label \"cat\" appears 5000 times in the training set\n",
            "The label \"deer\" appears 5000 times in the training set\n",
            "The label \"dog\" appears 5000 times in the training set\n",
            "The label \"frog\" appears 5000 times in the training set\n",
            "The label \"horse\" appears 5000 times in the training set\n",
            "The label \"ship\" appears 5000 times in the training set\n",
            "The label \"truck\" appears 5000 times in the training set\n"
          ]
        },
        {
          "output_type": "display_data",
          "data": {
            "text/plain": [
              "<Figure size 1500x500 with 10 Axes>"
            ],
            "image/png": "[encoded data removed]"
          },
          "metadata": {}
        }
      ]
    },
    {
      "cell_type": "markdown",
      "source": [
        "# The next two problems are optional, but recommended\n",
        "\n",
        "We will be generating lots of random data sets in this class, in order to test the behavior of machine learning algorithms.\n",
        "\n",
        "So it's useful to know how to generate random data, and display it."
      ],
      "metadata": {
        "id": "yQ7dZ0zOubdm"
      }
    },
    {
      "cell_type": "markdown",
      "source": [
        "### Problem 5 (Optional, recommended)\n",
        "\n",
        "**Part 1.** Generate 1,000 samples of 2 dimensional data from the Gaussian distribution $\\left(\\begin{array}{cc}X_{i}\\\\Y_{i}\\end{array}\\right)∼N\\biggl(\\left(\\begin{array}{cc}-5\\\\5\\end{array}\\right),\\left(\\begin{array}{cc}2 & 0.8\\\\0.8 & 3\\end{array}\\right)\\biggr)$.\n",
        "\n",
        "**Part 2.** Plot these points.\n",
        "\n",
        "**Part 3.** Find the Eigenvectors and Eigenvalues of the covariance matrix using np.linalg.eig, or np.linalg.eigh, or something else of your choice.\n",
        "\n",
        "**Part 4.** Now take the 1,000 points you generated in the first part, and use them to estimate the mean and covariance matrix for this multi-dimensional data using elementary numpy commands, i.e., addition, multiplication, division (do not use a command that takes data and returns the mean or standard deviation).\n",
        "\n",
        "*Remark*: If you did this correctly: You should have made a number of observations. (i) The points you plotted should look like an elongated ellipse. (ii) The axis of elongation (the major axis of the ellipse) should be aligned with the eigenvector you computed that has the largest eigenvalue. The minor axis, should be aligned with the other eigenvector you computed. (iii) In the last part, you computed what is called the *empirical covariance* matrix. This should be quite close to the covariance matrix you used to generate the data. If we used more and more points (10,000, 100,000, etc.), then our empirical estimate would look more and more like what we used to generate the data.\n"
      ],
      "metadata": {
        "id": "2cb_GbUlauEV"
      }
    },
    {
      "cell_type": "markdown",
      "source": [
        "### Problem 6: Central Limit Theorem (Optional, recommended)\n",
        "\n",
        "Back in EE351K you learned the Law of Large Numbers, and the Central Limit Theorem, among many other things. The Law of Large Numbers says that if $X_i$ are independent and identically distributed (iid) random variables, then $(1/N) \\sum X_i$ converges to $\\mathbb{E}[X]$. That's the law of large numbers.\n",
        "\n",
        "You also learned the Central Limit Theorem. This says that if $X_i$ are zero mean, have variance 1, and are iid, then $(1/\\sqrt{N}) \\sum X_i$ converges to a random variable. Which random variable? A standard (zero mean, unit variance) Gaussian.\n",
        "\n",
        "We're going to check the central limit theorem empirically, as an excuse to do more practice with Python and numpy and basic plotting.\n",
        "\n",
        "Let $X_i$ be an iid Bernoulli random variable with value \\{-1,1\\}. Look at the random variable\n",
        "$Z_n = \\frac{1}{\\sqrt{n}}\\sum X_i$. By taking 1000 samples from $Z_n$, plot its histogram. **Note**: To generate 1,000 samples from $Z_n$, you need to generate $1,000 \\times n$ samples of $X_i$, since each $Z$ needs $1,000$ $X_i$'s. Now check that for small $n$ (set $n= 5$) $Z_n$ does not look that much like a Gaussian, but when $n$ is bigger (set $n = 50$) it looks much more like a Gaussian. Check also for much bigger $n$: $n = 250$, to see that at this point, one can really see the bell curve."
      ],
      "metadata": {
        "id": "Dp-Seh6FNCT7"
      }
    },
    {
      "cell_type": "code",
      "source": [],
      "metadata": {
        "id": "CYxJU9YInYSW"
      },
      "execution_count": null,
      "outputs": []
    }
  ]
}